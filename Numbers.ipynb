{
 "cells": [
  {
   "cell_type": "markdown",
   "id": "98575ff7-d5e3-45fa-857b-3be743830912",
   "metadata": {},
   "source": [
    "# Numbers\n",
    "\n",
    "[Numeric types](https://go.dev/ref/spec#Numeric_types) section in [The Go Programming Language Specification](https://go.dev/ref/)\n",
    "\n",
    "Before we start, check Go version:"
   ]
  },
  {
   "cell_type": "code",
   "execution_count": 1,
   "id": "f36dcf1e-8dce-492f-bb82-3286a279c608",
   "metadata": {},
   "outputs": [
    {
     "name": "stdout",
     "output_type": "stream",
     "text": [
      "go1.23.4\n"
     ]
    }
   ],
   "source": [
    "%%\n",
    "fmt.Println(runtime. Version())"
   ]
  },
  {
   "cell_type": "markdown",
   "id": "be816cc2-86be-4541-9cb4-532047a10d6e",
   "metadata": {},
   "source": [
    "## Integers\n",
    "\n",
    "Go has 8 fixed-size integer types and two widely used aliases. From the [specs](https://go.dev/ref/spec#Numeric_types):\n",
    "\n",
    "```go\n",
    "uint8       // unsigned  8-bit integers (0 to 255)\n",
    "uint16      // unsigned 16-bit integers (0 to 65535)\n",
    "uint32      // unsigned 32-bit integers (0 to 4294967295)\n",
    "uint64      // unsigned 64-bit integers (0 to 18446744073709551615)\n",
    "\n",
    "int8        // signed  8-bit integers (-128 to 127)\n",
    "int16       // signed 16-bit integers (-32768 to 32767)\n",
    "int32       // signed 32-bit integers (-2147483648 to 2147483647)\n",
    "int64       // signed 64-bit integers (-9223372036854775808 to 9223372036854775807)\n",
    "\n",
    "float32     // IEEE 754 32-bit floating-point numbers\n",
    "float64     // IEEE 754 64-bit floating-point numbers\n",
    "\n",
    "complex64   // complex numbers with float32 real and imaginary parts\n",
    "complex128  // complex numbers with float64 real and imaginary parts\n",
    "\n",
    "byte        alias for uint8\n",
    "rune        alias for int32\n",
    "```\n",
    "\n",
    "Go also has 3 integer types with implementation-dependent sizes:\n",
    "\n",
    "```go\n",
    "uint     // either 32 or 64 bits\n",
    "int      // same size as uint\n",
    "uintptr  // an unsigned integer large enough to store the uninterpreted bits of a pointer value\n",
    "```\n",
    "\n",
    "The integer types all wrap-around: if you add 1 to the maximum value, you get the minimum value, and vice-versa.\n",
    "\n",
    "Examples:"
   ]
  },
  {
   "cell_type": "code",
   "execution_count": 2,
   "id": "e99b6d58-061d-47d2-af6a-6bb2997aba69",
   "metadata": {},
   "outputs": [
    {
     "name": "stdout",
     "output_type": "stream",
     "text": [
      "0\n",
      "255\n"
     ]
    }
   ],
   "source": [
    "%%\n",
    "var u uint8\n",
    "fmt.Println(u)\n",
    "fmt.Println(u - 1)"
   ]
  },
  {
   "cell_type": "code",
   "execution_count": 3,
   "id": "73bf3f69-3c70-40a3-b53a-758bfe1ea984",
   "metadata": {},
   "outputs": [
    {
     "name": "stdout",
     "output_type": "stream",
     "text": [
      "255\n",
      "0\n"
     ]
    }
   ],
   "source": [
    "%%\n",
    "var u uint8 = 255\n",
    "fmt.Println(u)\n",
    "fmt.Println(u + 1)"
   ]
  },
  {
   "cell_type": "code",
   "execution_count": 4,
   "id": "5d4dfbc6-8ded-443e-b023-173368334779",
   "metadata": {},
   "outputs": [
    {
     "name": "stdout",
     "output_type": "stream",
     "text": [
      "-128\n"
     ]
    }
   ],
   "source": [
    "%%\n",
    "var i int8 = 127\n",
    "fmt.Println(i + 1)"
   ]
  },
  {
   "cell_type": "code",
   "execution_count": 5,
   "id": "58cbf513-92ae-4e70-b3f8-0dc8efd3503e",
   "metadata": {},
   "outputs": [
    {
     "name": "stdout",
     "output_type": "stream",
     "text": [
      "127\n"
     ]
    }
   ],
   "source": [
    "%%\n",
    "var i int8 = -128\n",
    "fmt.Println(i - 1)"
   ]
  },
  {
   "cell_type": "code",
   "execution_count": 6,
   "id": "759fc37e-9638-4a0e-bddd-156d446242e2",
   "metadata": {},
   "outputs": [],
   "source": [
    "func pow2(exponent uint64) (result uint64) {\n",
    "\tresult = 1\n",
    "    var i uint64\n",
    "\tfor i = 0; i < exponent; i++ {\n",
    "\t\tresult *= 2\n",
    "\t}\n",
    "\treturn result\n",
    "}"
   ]
  },
  {
   "cell_type": "code",
   "execution_count": 7,
   "id": "4cad5519-faf9-41fd-a386-1b1dc8b87d55",
   "metadata": {},
   "outputs": [
    {
     "name": "stdout",
     "output_type": "stream",
     "text": [
      "9223372036854775808\n",
      "0\n",
      "18446744073709551615\n",
      "true\n"
     ]
    }
   ],
   "source": [
    "%%\n",
    "fmt.Println(pow2(63))\n",
    "fmt.Println(pow2(64))\n",
    "fmt.Println(pow2(64)-1)\n",
    "const uint64max = 18446744073709551615  // https://go.dev/ref/spec#Numeric_types\n",
    "fmt.Println(pow2(64)-1 == uint64max) "
   ]
  },
  {
   "cell_type": "markdown",
   "id": "6b4dde71-72e2-443a-82b4-af351876d9db",
   "metadata": {},
   "source": [
    "### What's the size of my int?"
   ]
  },
  {
   "cell_type": "code",
   "execution_count": 8,
   "id": "2a352d71-2077-4e30-947f-651e65fb2884",
   "metadata": {},
   "outputs": [
    {
     "name": "stdout",
     "output_type": "stream",
     "text": [
      "64\n"
     ]
    }
   ],
   "source": [
    "%%\n",
    "fmt.Println(bits.UintSize)"
   ]
  },
  {
   "cell_type": "code",
   "execution_count": 9,
   "id": "cb92f6cd-7384-4d21-aaf8-6f7c0ebeca13",
   "metadata": {},
   "outputs": [
    {
     "name": "stdout",
     "output_type": "stream",
     "text": [
      "64\n"
     ]
    }
   ],
   "source": [
    "%%\n",
    "uintSize := 32 << (^uint(0) >> 32 & 1) // 32 or 64 \n",
    "fmt.Println(uintSize)"
   ]
  },
  {
   "cell_type": "code",
   "execution_count": 10,
   "id": "2b70710b-376e-4b67-8661-b01011fb7673",
   "metadata": {},
   "outputs": [
    {
     "name": "stdout",
     "output_type": "stream",
     "text": [
      "4294967295\n"
     ]
    }
   ],
   "source": [
    "%%\n",
    "fmt.Println(^uint32(0))"
   ]
  },
  {
   "cell_type": "code",
   "execution_count": 11,
   "id": "116ff928-2f70-471e-add6-d1f9e15c881b",
   "metadata": {},
   "outputs": [
    {
     "name": "stdout",
     "output_type": "stream",
     "text": [
      "0 255 11111111\n",
      "1 127 01111111\n",
      "2  63 00111111\n",
      "3  31 00011111\n",
      "4  15 00001111\n",
      "5   7 00000111\n",
      "6   3 00000011\n",
      "7   1 00000001\n",
      "8   0 00000000\n",
      "9   0 00000000\n"
     ]
    }
   ],
   "source": [
    "%%\n",
    "// for i := 0; i < 9; i++ {\n",
    "for i := range 10 {\n",
    "    j := ^uint8(0) >> i\n",
    "    fmt.Printf(\"%d %3d %08b\\n\", i, j, j)\n",
    "}\n"
   ]
  },
  {
   "cell_type": "markdown",
   "id": "d990c359-741a-4713-8df9-b614636e2ce5",
   "metadata": {
    "jp-MarkdownHeadingCollapsed": true
   },
   "source": [
    "## The `byte8` and `rune` aliases"
   ]
  },
  {
   "cell_type": "markdown",
   "id": "06d56200-d0e8-4287-8023-ee9c2d4c4744",
   "metadata": {},
   "source": [
    "## Floats"
   ]
  },
  {
   "cell_type": "code",
   "execution_count": 12,
   "id": "385fbec5-0fb9-42aa-b213-0d979f78acbc",
   "metadata": {},
   "outputs": [
    {
     "name": "stdout",
     "output_type": "stream",
     "text": [
      "-20.0  1 10000011 01000000000000000000000\n",
      "-19.0  1 10000011 00110000000000000000000\n",
      "-18.0  1 10000011 00100000000000000000000\n",
      "-17.0  1 10000011 00010000000000000000000\n",
      "-16.0  1 10000011 00000000000000000000000\n",
      "-15.0  1 10000010 11100000000000000000000\n",
      "-14.0  1 10000010 11000000000000000000000\n",
      "-13.0  1 10000010 10100000000000000000000\n",
      "-12.0  1 10000010 10000000000000000000000\n",
      "-11.0  1 10000010 01100000000000000000000\n",
      "-10.0  1 10000010 01000000000000000000000\n",
      " -9.0  1 10000010 00100000000000000000000\n",
      " -8.0  1 10000010 00000000000000000000000\n",
      " -7.0  1 10000001 11000000000000000000000\n",
      " -6.0  1 10000001 10000000000000000000000\n",
      " -5.0  1 10000001 01000000000000000000000\n",
      " -4.0  1 10000001 00000000000000000000000\n",
      " -3.0  1 10000000 10000000000000000000000\n",
      " -2.0  1 10000000 00000000000000000000000\n",
      " -1.0  1 01111111 00000000000000000000000\n",
      "  0.0  0 00000000 00000000000000000000000\n",
      "  1.0  0 01111111 00000000000000000000000\n",
      "  2.0  0 10000000 00000000000000000000000\n",
      "  3.0  0 10000000 10000000000000000000000\n",
      "  4.0  0 10000001 00000000000000000000000\n",
      "  5.0  0 10000001 01000000000000000000000\n",
      "  6.0  0 10000001 10000000000000000000000\n",
      "  7.0  0 10000001 11000000000000000000000\n",
      "  8.0  0 10000010 00000000000000000000000\n",
      "  9.0  0 10000010 00100000000000000000000\n",
      " 10.0  0 10000010 01000000000000000000000\n",
      " 11.0  0 10000010 01100000000000000000000\n",
      " 12.0  0 10000010 10000000000000000000000\n",
      " 13.0  0 10000010 10100000000000000000000\n",
      " 14.0  0 10000010 11000000000000000000000\n",
      " 15.0  0 10000010 11100000000000000000000\n",
      " 16.0  0 10000011 00000000000000000000000\n",
      " 17.0  0 10000011 00010000000000000000000\n",
      " 18.0  0 10000011 00100000000000000000000\n",
      " 19.0  0 10000011 00110000000000000000000\n",
      " 20.0  0 10000011 01000000000000000000000\n"
     ]
    }
   ],
   "source": [
    "%%\n",
    "var f float32\n",
    "for f = -20; f <= 20; f++ {\n",
    "    bits := fmt.Sprintf(\"%032b\", math.Float32bits(f))\n",
    "    fmt.Printf(\"%5.1f  %v %v %v\\n\", f, bits[:1], bits[1:9], bits[9:])\n",
    "}"
   ]
  },
  {
   "cell_type": "code",
   "execution_count": 13,
   "id": "a9468479-b9e8-4c3b-97e8-b26940e09596",
   "metadata": {},
   "outputs": [],
   "source": [
    "func parse(s string) int64 {\n",
    "    i, err := strconv.ParseInt(s, 2, 64)\n",
    "    if err != nil {\n",
    "        panic(err)\n",
    "    }\n",
    "    return i\n",
    "}"
   ]
  },
  {
   "cell_type": "code",
   "execution_count": 14,
   "id": "d443999f-8786-44b4-80e1-4c2b05e76b46",
   "metadata": {},
   "outputs": [
    {
     "name": "stdout",
     "output_type": "stream",
     "text": [
      "   0  0\n",
      "   1  1\n",
      "  10  2\n",
      "  11  3\n",
      " 100  4\n",
      " 101  5\n",
      " 110  6\n",
      " 111  7\n",
      "1000  8\n",
      "1001  9\n",
      "1010 10\n"
     ]
    }
   ],
   "source": [
    "%%\n",
    "var i int64\n",
    "for i = range(11) {\n",
    "    bits := fmt.Sprintf(\"%b\", i)\n",
    "    n := parse(bits)\n",
    "    fmt.Printf(\"%4v %2d\\n\", bits, n)\n",
    "}"
   ]
  },
  {
   "cell_type": "code",
   "execution_count": 15,
   "id": "444ae4a1-82e8-4b7e-9e93-3929ac4dc7ad",
   "metadata": {},
   "outputs": [],
   "source": [
    "import \"math\" \n",
    "\n",
    "func table(sample []float32) {\n",
    "    var sign rune\n",
    "    fmt.Println(\"   sample   SIGN  EXPONENT               FRACTION\")\n",
    "    for _, f := range sample {\n",
    "        bits := math.Float32bits(f)\n",
    "        bitStr := fmt.Sprintf(\"%032b\", bits)\n",
    "        if (bits >> 31) == 1 {\n",
    "            sign = '-'\n",
    "        } else {\n",
    "            sign = '+'\n",
    "        }\n",
    "        signBit := bitStr[0]  \n",
    "        expStr := bitStr[1:9]\n",
    "        x := parse(expStr)\n",
    "        exp := x - 127\n",
    "        fmt.Printf(\"%10.5f  [%c]%c  [%v] %3d → %4d  [%v]\\n\", f, signBit, sign, expStr, x, exp, bitStr[9:])\n",
    "    }\n",
    "}"
   ]
  },
  {
   "cell_type": "code",
   "execution_count": 16,
   "id": "68098211-ba78-4cba-b2ca-cc147d82f282",
   "metadata": {},
   "outputs": [
    {
     "name": "stdout",
     "output_type": "stream",
     "text": [
      "   sample   SIGN  EXPONENT               FRACTION\n",
      "  -3.00000  [1]-  [10000000] 128 →    1  [10000000000000000000000]\n",
      "  -2.00000  [1]-  [10000000] 128 →    1  [00000000000000000000000]\n",
      "  -1.00000  [1]-  [01111111] 127 →    0  [00000000000000000000000]\n",
      "   0.00000  [0]+  [00000000]   0 → -127  [00000000000000000000000]\n",
      "   1.00000  [0]+  [01111111] 127 →    0  [00000000000000000000000]\n",
      "   2.00000  [0]+  [10000000] 128 →    1  [00000000000000000000000]\n",
      "   3.00000  [0]+  [10000000] 128 →    1  [10000000000000000000000]\n",
      "   4.00000  [0]+  [10000001] 129 →    2  [00000000000000000000000]\n",
      "   5.00000  [0]+  [10000001] 129 →    2  [01000000000000000000000]\n",
      "   6.00000  [0]+  [10000001] 129 →    2  [10000000000000000000000]\n",
      "   7.00000  [0]+  [10000001] 129 →    2  [11000000000000000000000]\n",
      "   8.00000  [0]+  [10000010] 130 →    3  [00000000000000000000000]\n",
      "   9.00000  [0]+  [10000010] 130 →    3  [00100000000000000000000]\n",
      "  10.00000  [0]+  [10000010] 130 →    3  [01000000000000000000000]\n",
      "  11.00000  [0]+  [10000010] 130 →    3  [01100000000000000000000]\n",
      "  12.00000  [0]+  [10000010] 130 →    3  [10000000000000000000000]\n",
      "  13.00000  [0]+  [10000010] 130 →    3  [10100000000000000000000]\n",
      "  14.00000  [0]+  [10000010] 130 →    3  [11000000000000000000000]\n",
      "  15.00000  [0]+  [10000010] 130 →    3  [11100000000000000000000]\n",
      "  16.00000  [0]+  [10000011] 131 →    4  [00000000000000000000000]\n",
      "  31.00000  [0]+  [10000011] 131 →    4  [11110000000000000000000]\n",
      "  63.00000  [0]+  [10000100] 132 →    5  [11111000000000000000000]\n",
      " 127.00000  [0]+  [10000101] 133 →    6  [11111100000000000000000]\n",
      " 255.00000  [0]+  [10000110] 134 →    7  [11111110000000000000000]\n",
      " 511.00000  [0]+  [10000111] 135 →    8  [11111111000000000000000]\n",
      "1023.00000  [0]+  [10001000] 136 →    9  [11111111100000000000000]\n",
      "1024.00000  [0]+  [10001001] 137 →   10  [00000000000000000000000]\n"
     ]
    }
   ],
   "source": [
    "%%\n",
    "table([]float32{-3, -2, -1, 0, 1, 2, 3, 4, 5, 6, 7, 8, 9, 10, 11, 12, 13, 14, 15, 16, 31, 63, 127, 255, 511, 1023, 1024})"
   ]
  },
  {
   "cell_type": "code",
   "execution_count": 17,
   "id": "b4ae190a-31e7-4a66-98a8-dd5b8b9bdae0",
   "metadata": {},
   "outputs": [
    {
     "name": "stdout",
     "output_type": "stream",
     "text": [
      "   sample   SIGN  EXPONENT               FRACTION\n",
      "   1.00000  [0]+  [01111111] 127 →    0  [00000000000000000000000]\n",
      "   0.50000  [0]+  [01111110] 126 →   -1  [00000000000000000000000]\n",
      "   0.25000  [0]+  [01111101] 125 →   -2  [00000000000000000000000]\n",
      "   0.12500  [0]+  [01111100] 124 →   -3  [00000000000000000000000]\n",
      "   0.06250  [0]+  [01111011] 123 →   -4  [00000000000000000000000]\n",
      "   0.03125  [0]+  [01111010] 122 →   -5  [00000000000000000000000]\n"
     ]
    }
   ],
   "source": [
    "%%\n",
    "\n",
    "sample := make([]float32, 6)\n",
    "for i := range sample {\n",
    "     sample[i] = float32(1 / math.Pow(2, float64(i)))\n",
    "}\n",
    "table(sample)"
   ]
  },
  {
   "cell_type": "code",
   "execution_count": 18,
   "id": "b5a33acb-571a-4d60-86d8-0b32348db6b1",
   "metadata": {},
   "outputs": [
    {
     "name": "stdout",
     "output_type": "stream",
     "text": [
      "   sample   SIGN  EXPONENT               FRACTION\n",
      "   0.00000  [0]+  [00000000]   0 → -127  [00000000000000000000000]\n",
      "   0.10000  [0]+  [01111011] 123 →   -4  [10011001100110011001101]\n",
      "   0.20000  [0]+  [01111100] 124 →   -3  [10011001100110011001101]\n",
      "   0.30000  [0]+  [01111101] 125 →   -2  [00110011001100110011010]\n",
      "   0.40000  [0]+  [01111101] 125 →   -2  [10011001100110011001101]\n",
      "   0.50000  [0]+  [01111110] 126 →   -1  [00000000000000000000000]\n",
      "   0.60000  [0]+  [01111110] 126 →   -1  [00110011001100110011010]\n",
      "   0.70000  [0]+  [01111110] 126 →   -1  [01100110011001100110011]\n",
      "   0.80000  [0]+  [01111110] 126 →   -1  [10011001100110011001101]\n",
      "   0.90000  [0]+  [01111110] 126 →   -1  [11001100110011001100110]\n",
      "   1.00000  [0]+  [01111111] 127 →    0  [00000000000000000000000]\n"
     ]
    }
   ],
   "source": [
    "%%\n",
    "table([]float32{0, .1, .2, .3, .4, .5, .6, .7, .8, .9, 1})"
   ]
  },
  {
   "cell_type": "markdown",
   "id": "337c016e-b796-4081-b48e-8233cccc2bbe",
   "metadata": {},
   "source": [
    "The set of `float64` is not a superset of `int64`."
   ]
  },
  {
   "cell_type": "code",
   "execution_count": 19,
   "id": "c290d922-bed1-4997-a42a-039fd099208a",
   "metadata": {},
   "outputs": [
    {
     "name": "stdout",
     "output_type": "stream",
     "text": [
      "54\t18014398509481983\n",
      "\t18014398509481984.0\n",
      "55\t36028797018963967\n",
      "\t36028797018963968.0\n",
      "56\t72057594037927935\n",
      "\t72057594037927936.0\n",
      "57\t144115188075855871\n",
      "\t144115188075855872.0\n",
      "58\t288230376151711743\n",
      "\t288230376151711744.0\n",
      "59\t576460752303423487\n",
      "\t576460752303423488.0\n",
      "60\t1152921504606846975\n",
      "\t1152921504606846976.0\n",
      "61\t2305843009213693951\n",
      "\t2305843009213693952.0\n",
      "62\t4611686018427387903\n",
      "\t4611686018427387904.0\n",
      "63\t9223372036854775807\n",
      "\t9223372036854775808.0\n"
     ]
    }
   ],
   "source": [
    "%%\n",
    "for e := range 64 {\n",
    "    var i = 1 << e - 1\n",
    "    var f = float64(i)\n",
    "    var is = fmt.Sprintf(\"%d\", i)\n",
    "    var fs = fmt.Sprintf(\"%.f\", f)\n",
    "    if is != fs {\n",
    "        fmt.Printf(\"%d\\t%d\\n\\t%.1f\\n\", e, i, f)\n",
    "    }\n",
    "}\n"
   ]
  },
  {
   "cell_type": "markdown",
   "id": "8dcf0abc-f4e2-4659-b5a2-85997087649c",
   "metadata": {},
   "source": [
    "## Complex numbers\n",
    "\n",
    "The types `complex64` and `complex128` represent complex numbers, represented as pairs of floats, as implemented in modern CPUs. "
   ]
  }
 ],
 "metadata": {
  "kernelspec": {
   "display_name": "Go (gonb)",
   "language": "go",
   "name": "gonb"
  },
  "language_info": {
   "codemirror_mode": "",
   "file_extension": ".go",
   "mimetype": "",
   "name": "go",
   "nbconvert_exporter": "",
   "pygments_lexer": "",
   "version": "go1.23.4"
  }
 },
 "nbformat": 4,
 "nbformat_minor": 5
}
