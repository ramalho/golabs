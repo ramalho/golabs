{
 "cells": [
  {
   "cell_type": "markdown",
   "id": "98575ff7-d5e3-45fa-857b-3be743830912",
   "metadata": {},
   "source": [
    "# Numbers\n",
    "\n",
    "[Numeric types](https://go.dev/ref/spec#Numeric_types) section in [The Go Programming Language Specification](https://go.dev/ref/)\n",
    "\n",
    "Before we start, check Go version:"
   ]
  },
  {
   "cell_type": "code",
   "execution_count": 47,
   "id": "f36dcf1e-8dce-492f-bb82-3286a279c608",
   "metadata": {},
   "outputs": [
    {
     "name": "stdout",
     "output_type": "stream",
     "text": [
      "go1.21.1\n"
     ]
    }
   ],
   "source": [
    "%%\n",
    "fmt.Println(runtime. Version())"
   ]
  },
  {
   "cell_type": "markdown",
   "id": "be816cc2-86be-4541-9cb4-532047a10d6e",
   "metadata": {},
   "source": [
    "## Integers\n",
    "\n",
    "Go has 8 fixed-size integer types and two widely used aliases. From the [specs](https://go.dev/ref/spec#Numeric_types):\n",
    "\n",
    "```go\n",
    "uint8       // unsigned  8-bit integers (0 to 255)\n",
    "uint16      // unsigned 16-bit integers (0 to 65535)\n",
    "uint32      // unsigned 32-bit integers (0 to 4294967295)\n",
    "uint64      // unsigned 64-bit integers (0 to 18446744073709551615)\n",
    "\n",
    "int8        // signed  8-bit integers (-128 to 127)\n",
    "int16       // signed 16-bit integers (-32768 to 32767)\n",
    "int32       // signed 32-bit integers (-2147483648 to 2147483647)\n",
    "int64       // signed 64-bit integers (-9223372036854775808 to 9223372036854775807)\n",
    "\n",
    "float32     // IEEE 754 32-bit floating-point numbers\n",
    "float64     // IEEE 754 64-bit floating-point numbers\n",
    "\n",
    "complex64   // complex numbers with float32 real and imaginary parts\n",
    "complex128  // complex numbers with float64 real and imaginary parts\n",
    "\n",
    "byte        alias for uint8\n",
    "rune        alias for int32\n",
    "```\n",
    "\n",
    "Go also has 3 integer types with implementation-dependent sizes:\n",
    "\n",
    "```go\n",
    "uint     // either 32 or 64 bits\n",
    "int      // same size as uint\n",
    "uintptr  // an unsigned integer large enough to store the uninterpreted bits of a pointer value\n",
    "```\n",
    "\n",
    "The integer types all wrap-around: if you add 1 to the maximum value, you get the minimum value, and vice-versa.\n",
    "\n",
    "Examples:"
   ]
  },
  {
   "cell_type": "code",
   "execution_count": 11,
   "id": "e99b6d58-061d-47d2-af6a-6bb2997aba69",
   "metadata": {},
   "outputs": [
    {
     "name": "stdout",
     "output_type": "stream",
     "text": [
      "0\n",
      "255\n"
     ]
    }
   ],
   "source": [
    "%%\n",
    "var u uint8\n",
    "fmt.Println(u)\n",
    "fmt.Println(u - 1)"
   ]
  },
  {
   "cell_type": "code",
   "execution_count": 15,
   "id": "73bf3f69-3c70-40a3-b53a-758bfe1ea984",
   "metadata": {},
   "outputs": [
    {
     "name": "stdout",
     "output_type": "stream",
     "text": [
      "255\n",
      "0\n"
     ]
    }
   ],
   "source": [
    "%%\n",
    "var u uint8 = 255\n",
    "fmt.Println(u)\n",
    "fmt.Println(u + 1)"
   ]
  },
  {
   "cell_type": "code",
   "execution_count": 16,
   "id": "5d4dfbc6-8ded-443e-b023-173368334779",
   "metadata": {},
   "outputs": [
    {
     "name": "stdout",
     "output_type": "stream",
     "text": [
      "-128\n"
     ]
    }
   ],
   "source": [
    "%%\n",
    "var i int8 = 127\n",
    "fmt.Println(i + 1)"
   ]
  },
  {
   "cell_type": "code",
   "execution_count": 17,
   "id": "58cbf513-92ae-4e70-b3f8-0dc8efd3503e",
   "metadata": {},
   "outputs": [
    {
     "name": "stdout",
     "output_type": "stream",
     "text": [
      "127\n"
     ]
    }
   ],
   "source": [
    "%%\n",
    "var i int8 = -128\n",
    "fmt.Println(i - 1)"
   ]
  },
  {
   "cell_type": "code",
   "execution_count": 23,
   "id": "759fc37e-9638-4a0e-bddd-156d446242e2",
   "metadata": {},
   "outputs": [],
   "source": [
    "func pow2(exponent uint64) (result uint64) {\n",
    "\tresult = 1\n",
    "    var i uint64\n",
    "\tfor i = 0; i < exponent; i++ {\n",
    "\t\tresult *= 2\n",
    "\t}\n",
    "\treturn result\n",
    "}"
   ]
  },
  {
   "cell_type": "code",
   "execution_count": 32,
   "id": "4cad5519-faf9-41fd-a386-1b1dc8b87d55",
   "metadata": {},
   "outputs": [
    {
     "name": "stdout",
     "output_type": "stream",
     "text": [
      "9223372036854775808\n",
      "0\n",
      "18446744073709551615\n",
      "true\n"
     ]
    }
   ],
   "source": [
    "%%\n",
    "fmt.Println(pow2(63))\n",
    "fmt.Println(pow2(64))\n",
    "fmt.Println(pow2(64)-1)\n",
    "const uint64max = 18446744073709551615  // https://go.dev/ref/spec#Numeric_types\n",
    "fmt.Println(pow2(64)-1 == uint64max) "
   ]
  },
  {
   "cell_type": "markdown",
   "id": "6b4dde71-72e2-443a-82b4-af351876d9db",
   "metadata": {},
   "source": [
    "### What's the size of my int?"
   ]
  },
  {
   "cell_type": "code",
   "execution_count": 34,
   "id": "2a352d71-2077-4e30-947f-651e65fb2884",
   "metadata": {},
   "outputs": [
    {
     "name": "stdout",
     "output_type": "stream",
     "text": [
      "64\n"
     ]
    }
   ],
   "source": [
    "%%\n",
    "fmt.Println(bits.UintSize)"
   ]
  },
  {
   "cell_type": "code",
   "execution_count": 35,
   "id": "cb92f6cd-7384-4d21-aaf8-6f7c0ebeca13",
   "metadata": {},
   "outputs": [
    {
     "name": "stdout",
     "output_type": "stream",
     "text": [
      "64\n"
     ]
    }
   ],
   "source": [
    "%%\n",
    "uintSize := 32 << (^uint(0) >> 32 & 1) // 32 or 64 \n",
    "fmt.Println(uintSize)"
   ]
  },
  {
   "cell_type": "code",
   "execution_count": 39,
   "id": "2b70710b-376e-4b67-8661-b01011fb7673",
   "metadata": {},
   "outputs": [
    {
     "name": "stdout",
     "output_type": "stream",
     "text": [
      "4294967295\n"
     ]
    }
   ],
   "source": [
    "%%\n",
    "fmt.Println(^uint32(0))"
   ]
  },
  {
   "cell_type": "code",
   "execution_count": 53,
   "id": "116ff928-2f70-471e-add6-d1f9e15c881b",
   "metadata": {},
   "outputs": [
    {
     "name": "stdout",
     "output_type": "stream",
     "text": [
      "0 255 11111111\n",
      "1 127 01111111\n",
      "2  63 00111111\n",
      "3  31 00011111\n",
      "4  15 00001111\n",
      "5   7 00000111\n",
      "6   3 00000011\n",
      "7   1 00000001\n",
      "8   0 00000000\n"
     ]
    }
   ],
   "source": [
    "%%\n",
    "for i := 0; i < 9; i++ {\n",
    "    j := ^uint8(0) >> i\n",
    "    fmt.Printf(\"%d %3d %08b\\n\", i, j, j)\n",
    "}\n"
   ]
  },
  {
   "cell_type": "code",
   "execution_count": null,
   "id": "06c2093e-09a8-4511-bae1-787189cfd937",
   "metadata": {},
   "outputs": [],
   "source": []
  }
 ],
 "metadata": {
  "kernelspec": {
   "display_name": "Go (gonb)",
   "language": "go",
   "name": "gonb"
  },
  "language_info": {
   "codemirror_mode": "",
   "file_extension": ".go",
   "mimetype": "",
   "name": "go",
   "nbconvert_exporter": "",
   "pygments_lexer": "",
   "version": "go1.23.4"
  }
 },
 "nbformat": 4,
 "nbformat_minor": 5
}
