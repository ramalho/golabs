{
 "cells": [
  {
   "cell_type": "markdown",
   "id": "766ab65f-2cd1-4d25-82fb-0edc242f4543",
   "metadata": {},
   "source": [
    "## funcsplat\n",
    "\n",
    "Notebook demonstrando funções que devolvem múltiplos resultados,\n",
    "e seu uso fornecendo argumentos para outras funções."
   ]
  },
  {
   "cell_type": "code",
   "execution_count": 1,
   "id": "386652f1-5109-4353-8162-7929370b1a19",
   "metadata": {},
   "outputs": [],
   "source": [
    "func umdois() (int, int) {\n",
    "    return 1, 2\n",
    "}\n",
    "\n",
    "func umdoistres() (int, int, int) {\n",
    "    return 1, 2, 3\n",
    "}\n",
    "\n",
    "func mostra(x... any) {\n",
    "    fmt.Println(x)\n",
    "}\n",
    "\n",
    "func mostraSplat(x... any) {\n",
    "    fmt.Println(x...)\n",
    "}"
   ]
  },
  {
   "cell_type": "code",
   "execution_count": 2,
   "id": "38797534-a4bc-4e07-a3c9-2d2cb51199aa",
   "metadata": {},
   "outputs": [
    {
     "name": "stdout",
     "output_type": "stream",
     "text": [
      "[1 2]\n"
     ]
    }
   ],
   "source": [
    "%%\n",
    "mostra(umdois())"
   ]
  },
  {
   "cell_type": "code",
   "execution_count": 3,
   "id": "22caed2b-6062-448f-8cca-9d638018eeb8",
   "metadata": {},
   "outputs": [
    {
     "name": "stdout",
     "output_type": "stream",
     "text": [
      "1 2 3"
     ]
    }
   ],
   "source": [
    "%%\n",
    "fmt.Print(umdoistres())"
   ]
  },
  {
   "cell_type": "code",
   "execution_count": 4,
   "id": "0a085038-f108-4383-986c-1db84b85877e",
   "metadata": {},
   "outputs": [
    {
     "name": "stdout",
     "output_type": "stream",
     "text": [
      "[1 2 3]\n",
      "1 2 3\n"
     ]
    }
   ],
   "source": [
    "%%\n",
    "mostra(umdoistres())\n",
    "mostraSplat(umdoistres())"
   ]
  }
 ],
 "metadata": {
  "kernelspec": {
   "display_name": "Go (gonb)",
   "language": "go",
   "name": "gonb"
  },
  "language_info": {
   "codemirror_mode": "",
   "file_extension": ".go",
   "mimetype": "text/x-go",
   "name": "go",
   "nbconvert_exporter": "",
   "pygments_lexer": "",
   "version": "go1.24.4"
  }
 },
 "nbformat": 4,
 "nbformat_minor": 5
}
